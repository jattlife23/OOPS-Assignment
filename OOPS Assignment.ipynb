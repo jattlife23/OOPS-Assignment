{
  "metadata": {
    "kernelspec": {
      "name": "python",
      "display_name": "Python (Pyodide)",
      "language": "python"
    },
    "language_info": {
      "codemirror_mode": {
        "name": "python",
        "version": 3
      },
      "file_extension": ".py",
      "mimetype": "text/x-python",
      "name": "python",
      "nbconvert_exporter": "python",
      "pygments_lexer": "ipython3",
      "version": "3.8"
    }
  },
  "nbformat_minor": 4,
  "nbformat": 4,
  "cells": [
    {
      "cell_type": "markdown",
      "source": "### 1. What are the five key concepts of Object-Oriented Programming (OOP)?",
      "metadata": {}
    },
    {
      "cell_type": "markdown",
      "source": "#### The five key concepts of Object-Oriented Programming (OOP) are:\n\n#### 1. Encapsulation: This concept involves bundling data (attributes) and methods (functions) that operate on the data into a single unit, called an object. It also restricts direct access to some of the object's components, which helps protect the integrity of the data.\n\n#### 2. Abstraction: Abstraction focuses on hiding the complex implementation details and showing only the essential features of the object.\n\n#### 3. Inheritance: Inheritance allows a new class (subclass or derived class) to inherit properties and behaviors (methods) from an existing class (superclass or base class). \n\n#### 4. Polymorphism: Polymorphism enables objects to be treated as instances of their parent class, allowing methods to be defined in multiple forms. \n\n#### 5. Composition: Composition is a design principle that involves building complex objects from simpler ones. Rather than inheriting behaviors, a class can contain instances of other classes, allowing for greater flexibility and modularity in code design.\n\n##### These concepts work together to create a powerful paradigm for software development, enhancing code organization, reusability, and maintainability.",
      "metadata": {}
    },
    {
      "cell_type": "markdown",
      "source": "### 2. Write a Python class for a Car with attributes for make, model, and year. Include a method to display the car's information.",
      "metadata": {}
    },
    {
      "cell_type": "markdown",
      "source": "####  A simple Python class for a Car that includes attributes for make, model, and year, along with a method to display the car's information:",
      "metadata": {}
    },
    {
      "cell_type": "code",
      "source": "class Car:\n    def __init__(self, make, model, year):\n        self.make = make\n        self.model = model\n        self.year = year\n\n    def display_info(self):\n        print(f\"Car Information:\\nMake: {self.make}\\nModel: {self.model}\\nYear: {self.year}\")\n\n# Example usage\nmy_car = Car(\"Toyota\", \"Camry\", 2020)\nmy_car.display_info()\n",
      "metadata": {
        "trusted": true
      },
      "outputs": [],
      "execution_count": null
    },
    {
      "cell_type": "markdown",
      "source": "#### In this class:\n\n#### The __init__ method initializes the attributes of the Car object.\n#### The display_info method prints out the car's information in a readable format.\n#### You can create an instance of Car and call display_info to see the details.",
      "metadata": {}
    },
    {
      "cell_type": "markdown",
      "source": "### 3. Explain the difference between instance methods and class methods. Provide an example of each.",
      "metadata": {}
    },
    {
      "cell_type": "markdown",
      "source": "#### In Python, instance methods and class methods are two types of methods defined within a class, but they serve different purposes and are called in different contexts.\n\n#### Instance Methods\n#### Definition: Instance methods are defined to operate on an instance of the class. They take self as their first parameter, which refers to the specific instance calling the method. These methods can access and modify instance attributes.\n\n#### Example:",
      "metadata": {}
    },
    {
      "cell_type": "code",
      "source": "class Dog:\n    def __init__(self, name):\n        self.name = name\n\n    def bark(self):\n        return f\"{self.name} says woof!\"\n\n# Example usage\nmy_dog = Dog(\"Buddy\")\nprint(my_dog.bark())  # Output: Buddy says woof!",
      "metadata": {
        "trusted": true
      },
      "outputs": [
        {
          "name": "stdout",
          "text": "Buddy says woof!\n",
          "output_type": "stream"
        }
      ],
      "execution_count": 2
    },
    {
      "cell_type": "markdown",
      "source": "#### Class Methods\n#### Definition: Class methods are defined to operate on the class itself rather than on instances. They take cls as their first parameter, which refers to the class. Class methods are marked with the @classmethod decorator and can access class attributes and methods.\n\n#### Example:",
      "metadata": {}
    },
    {
      "cell_type": "code",
      "source": "class Dog:\n    count = 0  # Class attribute to track the number of Dog instances\n\n    def __init__(self, name):\n        self.name = name\n        Dog.count += 1  # Increment the count when a new instance is created\n\n    @classmethod\n    def get_dog_count(cls):\n        return cls.count\n\n# Example usage\nmy_dog1 = Dog(\"Buddy\")\nmy_dog2 = Dog(\"Max\")\nprint(Dog.get_dog_count())  # Output: 2",
      "metadata": {
        "trusted": true
      },
      "outputs": [
        {
          "name": "stdout",
          "text": "2\n",
          "output_type": "stream"
        }
      ],
      "execution_count": 1
    },
    {
      "cell_type": "markdown",
      "source": "#### Summary\n#### Instance Methods:\n\n##### Operate on an instance of the class.\n##### Use self to access instance attributes and methods.\n#### Class Methods:\n\n##### Operate on the class itself.\n##### Use cls to access class attributes and methods.\n##### Marked with the @classmethod decorator.\n#### This distinction allows for better organization and functionality within your classes.",
      "metadata": {}
    },
    {
      "cell_type": "markdown",
      "source": "### 4. How does Python implement method overloading? Give an example.",
      "metadata": {}
    },
    {
      "cell_type": "markdown",
      "source": "#### Python does not support traditional method overloading as seen in some other languages like Java or C++. Instead, Python allows a single method name to be defined, and you can implement varying behavior based on the number or types of arguments using default values or variable-length arguments.\n\n#### Example of Method Overloading Using Default Parameters\n#### You can use default parameters to create a method that behaves differently based on the arguments provided:",
      "metadata": {}
    },
    {
      "cell_type": "code",
      "source": "class Calculator:\n    def add(self, a, b=0, c=0):\n        return a + b + c\n\n# Example usage\ncalc = Calculator()\nprint(calc.add(5))          # Output: 5 (5 + 0 + 0)\nprint(calc.add(5, 10))      # Output: 15 (5 + 10 + 0)\nprint(calc.add(5, 10, 15))  # Output: 30 (5 + 10 + 15)",
      "metadata": {
        "trusted": true
      },
      "outputs": [
        {
          "name": "stdout",
          "text": "5\n15\n30\n",
          "output_type": "stream"
        }
      ],
      "execution_count": 3
    },
    {
      "cell_type": "markdown",
      "source": "#### Example of Method Overloading Using Variable-Length Arguments\nYou can also use *args to allow a variable number of arguments:",
      "metadata": {}
    },
    {
      "cell_type": "code",
      "source": "class Calculator:\n    def add(self, *args):\n        return sum(args)\n\n# Example usage\ncalc = Calculator()\nprint(calc.add(5))                   # Output: 5\nprint(calc.add(5, 10))               # Output: 15\nprint(calc.add(5, 10, 15, 20))       # Output: 50",
      "metadata": {
        "trusted": true
      },
      "outputs": [
        {
          "name": "stdout",
          "text": "5\n15\n50\n",
          "output_type": "stream"
        }
      ],
      "execution_count": 4
    },
    {
      "cell_type": "markdown",
      "source": "#### Summary\nWhile Python does not have true method overloading, you can achieve similar functionality using default arguments or variable-length arguments. ",
      "metadata": {}
    },
    {
      "cell_type": "markdown",
      "source": "### 5. What are the three types of access modifiers in Python? How are they denoted?",
      "metadata": {}
    },
    {
      "cell_type": "markdown",
      "source": "#### In Python, access modifiers control the visibility of class attributes and methods. There are three main types of access modifiers:\n\n#### 1. Public:\n\n#### ~Denotation: No special prefix.\n#### ~Description: Public members can be accessed from anywhere in the program. They are the default access level for class members.\n#### Example:",
      "metadata": {}
    },
    {
      "cell_type": "code",
      "source": "class Example:\n    def __init__(self):\n        self.public_attr = \"I am public\"\n\nobj = Example()\nprint(obj.public_attr)  # Accessible from outside the class",
      "metadata": {
        "trusted": true
      },
      "outputs": [],
      "execution_count": null
    },
    {
      "cell_type": "markdown",
      "source": "#### 2. Protected:\n\n#### ~Denotation: A single underscore prefix (_).\n#### ~Description: Protected members are intended to be accessed only within the class and its subclasses. They are not strictly enforced but are a convention indicating that these members should not be accessed from outside.\n#### Example:",
      "metadata": {}
    },
    {
      "cell_type": "code",
      "source": "class Example:\n    def __init__(self):\n        self._protected_attr = \"I am protected\"\n\nclass SubExample(Example):\n    def show(self):\n        return self._protected_attr  # Accessible in subclass\n\nobj = SubExample()\nprint(obj.show())  # Accessible through subclass",
      "metadata": {
        "trusted": true
      },
      "outputs": [],
      "execution_count": null
    },
    {
      "cell_type": "markdown",
      "source": "#### 3. Private:\n\n#### ~Denotation: A double underscore prefix (__).\n#### ~Description: Private members are intended to be inaccessible from outside the class. They undergo name mangling, which means the interpreter changes the name to prevent direct access.\n#### Example:",
      "metadata": {}
    },
    {
      "cell_type": "code",
      "source": "class Example:\n    def __init__(self):\n        self.__private_attr = \"I am private\"\n\n    def get_private_attr(self):\n        return self.__private_attr  # Accessing within the class\n\nobj = Example()\nprint(obj.get_private_attr())  # Accessible through a method\n# print(obj.__private_attr)  # This would raise an AttributeError",
      "metadata": {
        "trusted": true
      },
      "outputs": [],
      "execution_count": null
    },
    {
      "cell_type": "markdown",
      "source": "#### Summary\n#### ~Public: No prefix, accessible from anywhere.\n#### ~Protected: Single underscore (_), intended for internal use within the class and subclasses.\n#### ~Private: Double underscore (__), intended to be inaccessible from outside the class, with name mangling applied.\n#### These conventions help maintain encapsulation and protect the integrity of your objects.",
      "metadata": {}
    },
    {
      "cell_type": "markdown",
      "source": "### 6. Describe the five types of inheritance in Python. Provide a simple example of multiple inheritance.",
      "metadata": {}
    },
    {
      "cell_type": "markdown",
      "source": "#### In Python, inheritance allows a class to inherit attributes and methods from another class. Here are five types of inheritance:\n\n#### 1. Single Inheritance:\n\n#### ~A subclass inherits from a single superclass.\n#### Example:",
      "metadata": {}
    },
    {
      "cell_type": "code",
      "source": "class Parent:\n    def speak(self):\n        return \"Hello!\"\n\nclass Child(Parent):\n    def play(self):\n        return \"Playing...\"\n\nchild = Child()\nprint(child.speak())  # Output: Hello!",
      "metadata": {
        "trusted": true
      },
      "outputs": [
        {
          "name": "stdout",
          "text": "Hello!\n",
          "output_type": "stream"
        }
      ],
      "execution_count": 5
    },
    {
      "cell_type": "markdown",
      "source": "#### 2. Multiple Inheritance:\n\n#### ~A subclass inherits from multiple superclasses.\n#### Example:",
      "metadata": {}
    },
    {
      "cell_type": "code",
      "source": "class Parent1:\n    def greet(self):\n        return \"Hello from Parent1!\"\n\nclass Parent2:\n    def greet(self):\n        return \"Hello from Parent2!\"\n\nclass Child(Parent1, Parent2):\n    def greet(self):\n        return super().greet() + \" And from Child!\"\n\nchild = Child()\nprint(child.greet())  # Output: Hello from Parent1! And from Child!",
      "metadata": {
        "trusted": true
      },
      "outputs": [
        {
          "name": "stdout",
          "text": "Hello from Parent1! And from Child!\n",
          "output_type": "stream"
        }
      ],
      "execution_count": 6
    },
    {
      "cell_type": "markdown",
      "source": "#### 3. Multilevel Inheritance:\n\n#### ~A subclass inherits from another subclass.\n#### Example:\n",
      "metadata": {}
    },
    {
      "cell_type": "code",
      "source": "class Grandparent:\n    def say_hi(self):\n        return \"Hi from Grandparent!\"\n\nclass Parent(Grandparent):\n    def say_hello(self):\n        return \"Hello from Parent!\"\n\nclass Child(Parent):\n    def say_bye(self):\n        return \"Bye from Child!\"\n\nchild = Child()\nprint(child.say_hi())    # Output: Hi from Grandparent!\nprint(child.say_hello())  # Output: Hello from Parent!",
      "metadata": {
        "trusted": true
      },
      "outputs": [
        {
          "name": "stdout",
          "text": "Hi from Grandparent!\nHello from Parent!\n",
          "output_type": "stream"
        }
      ],
      "execution_count": 7
    },
    {
      "cell_type": "markdown",
      "source": "#### 4. Hierarchical Inheritance:\n\n#### ~Multiple subclasses inherit from a single superclass.\n#### Example:",
      "metadata": {}
    },
    {
      "cell_type": "code",
      "source": "class Parent:\n    def info(self):\n        return \"I am a Parent.\"\n\nclass Child1(Parent):\n    def info(self):\n        return \"I am Child1.\"\n\nclass Child2(Parent):\n    def info(self):\n        return \"I am Child2.\"\n\nchild1 = Child1()\nchild2 = Child2()\nprint(child1.info())  # Output: I am Child1.\nprint(child2.info())  # Output: I am Child2.",
      "metadata": {
        "trusted": true
      },
      "outputs": [
        {
          "name": "stdout",
          "text": "I am Child1.\nI am Child2.\n",
          "output_type": "stream"
        }
      ],
      "execution_count": 8
    },
    {
      "cell_type": "markdown",
      "source": "#### 5. Hybrid Inheritance:\n\n#### ~A combination of two or more types of inheritance. This can involve multiple, multilevel, or hierarchical inheritance structures.\n#### Example:",
      "metadata": {}
    },
    {
      "cell_type": "code",
      "source": "class Base:\n    def base_method(self):\n        return \"Base method\"\n\nclass A(Base):\n    def method_a(self):\n        return \"Method A\"\n\nclass B(Base):\n    def method_b(self):\n        return \"Method B\"\n\nclass C(A, B):  # Hybrid: C inherits from A and B\n    def method_c(self):\n        return \"Method C\"\n\nobj = C()\nprint(obj.base_method())  # Output: Base method\nprint(obj.method_a())      # Output: Method A\nprint(obj.method_b())      # Output: Method B",
      "metadata": {
        "trusted": true
      },
      "outputs": [
        {
          "name": "stdout",
          "text": "Base method\nMethod A\nMethod B\n",
          "output_type": "stream"
        }
      ],
      "execution_count": 9
    },
    {
      "cell_type": "markdown",
      "source": "#### Summary\n#### ~Single Inheritance: One superclass.\n#### ~Multiple Inheritance: More than one superclass.\n#### ~Multilevel Inheritance: Inheritance through multiple levels.\n#### ~Hierarchical Inheritance: Multiple subclasses from one superclass.\n#### ~Hybrid Inheritance: A mix of two or more types of inheritance.\n#### These inheritance types provide flexibility in designing class hierarchies, enabling code reuse and logical organization.",
      "metadata": {}
    },
    {
      "cell_type": "markdown",
      "source": "### 7. What is the Method Resolution Order (MRO) in Python? How can you retrieve it programmatically?",
      "metadata": {}
    },
    {
      "cell_type": "markdown",
      "source": "#### Method Resolution Order (MRO) in Python is the order in which base classes are searched when executing a method or accessing an attribute. This is especially important in multiple inheritance scenarios, where a class might inherit from multiple parents.\n\n#### Python uses the C3 linearization algorithm to determine the MRO, which ensures a consistent order of resolution.\n\n#### Retrieving MRO Programmatically\n#### You can retrieve the MRO of a class using the mro() method or the __mro__attribute.\n\n#### Example:",
      "metadata": {}
    },
    {
      "cell_type": "code",
      "source": "class A:\n    pass\n\nclass B(A):\n    pass\n\nclass C(A):\n    pass\n\nclass D(B, C):\n    pass\n\n# Retrieve MRO using mro() method\nprint(D.mro())  # Output: [<class '__main__.D'>, <class '__main__.B'>, <class '__main__.C'>, <class '__main__.A'>, <class 'object'>]\n\n# Retrieve MRO using __mro__ attribute\nprint(D.__mro__)  # Output: <class '__main__.D'>, <class '__main__.B'>, <class '__main__.C'>, <class '__main__.A'>, <class 'object'>",
      "metadata": {
        "trusted": true
      },
      "outputs": [
        {
          "name": "stdout",
          "text": "[<class '__main__.D'>, <class '__main__.B'>, <class '__main__.C'>, <class '__main__.A'>, <class 'object'>]\n(<class '__main__.D'>, <class '__main__.B'>, <class '__main__.C'>, <class '__main__.A'>, <class 'object'>)\n",
          "output_type": "stream"
        }
      ],
      "execution_count": 10
    },
    {
      "cell_type": "markdown",
      "source": "#### Explanation of the Output\n#### In the example, the MRO for class D is:\n\n#### 1. D itself\n#### 2. B (the first base class)\n#### 3. C (the second base class)\n#### 4. A (the common superclass of B and C)\n#### 5. object (the ultimate base class in Python)\n#### This order shows how Python will look for methods and attributes starting from the most derived class (D) and working its way up through the inheritance hierarchy.",
      "metadata": {}
    },
    {
      "cell_type": "markdown",
      "source": "### 8. Create an abstract base class `Shape` with an abstract method `area()`. Then create two subclasses `Circle` and `Rectangle` that implement the `area()` method.",
      "metadata": {}
    },
    {
      "cell_type": "markdown",
      "source": "#### To create an abstract base class Shape with an abstract method area(), you can use the abc module in Python, which provides the infrastructure for defining abstract base classes.\n\n#### Here's how you can implement it:",
      "metadata": {}
    },
    {
      "cell_type": "code",
      "source": "from abc import ABC, abstractmethod\nimport math\n\n# Abstract Base Class\nclass Shape(ABC):\n    @abstractmethod\n    def area(self):\n        pass\n\n# Subclass for Circle\nclass Circle(Shape):\n    def __init__(self, radius):\n        self.radius = radius\n\n    def area(self):\n        return math.pi * (self.radius ** 2)\n\n# Subclass for Rectangle\nclass Rectangle(Shape):\n    def __init__(self, width, height):\n        self.width = width\n        self.height = height\n\n    def area(self):\n        return self.width * self.height\n\n# Example usage\ncircle = Circle(5)\nrectangle = Rectangle(4, 6)\n\nprint(f\"Circle Area: {circle.area():.2f}\")      # Output: Circle Area: 78.54\nprint(f\"Rectangle Area: {rectangle.area():.2f}\")  # Output: Rectangle Area: 24.00",
      "metadata": {
        "trusted": true
      },
      "outputs": [
        {
          "name": "stdout",
          "text": "Circle Area: 78.54\nRectangle Area: 24.00\n",
          "output_type": "stream"
        }
      ],
      "execution_count": 11
    },
    {
      "cell_type": "markdown",
      "source": "#### Explanation\n#### 1. Abstract Base Class (Shape):\n\n#### ~Inherits from ABC (Abstract Base Class).\n#### ~Contains an abstract method area() that must be implemented by any subclass.\n#### 2. Subclass for Circle:\n\n#### Implements the area() method to calculate the area of a circle using the formula πr2.||\n#### 3. Subclass for Rectangle:\n\n#### Implements the area() method to calculate the area of a rectangle using the formula width×height.\n#### 4. Example Usage:\n#### Creates instances of Circle and Rectangle and prints their respective areas.\n#### This setup ensures that any class inheriting from Shape must provide an implementation for the area() method, promoting a consistent interface for all shapes.",
      "metadata": {}
    },
    {
      "cell_type": "markdown",
      "source": "### 9. Demonstrate polymorphism by creating a function that can work with different shape objects to calculate and print their areas.",
      "metadata": {}
    },
    {
      "cell_type": "markdown",
      "source": "#### Polymorphism allows methods to use objects of different classes through a common interface. In the context of shapes, we can define a function that accepts various shape objects and calculates their areas, leveraging the previously defined Shape, Circle, and Rectangle classes.\n\n#### Here’s how to demonstrate polymorphism:",
      "metadata": {}
    },
    {
      "cell_type": "code",
      "source": "from abc import ABC, abstractmethod\nimport math\n\n# Abstract Base Class\nclass Shape(ABC):\n    @abstractmethod\n    def area(self):\n        pass\n\n# Subclass for Circle\nclass Circle(Shape):\n    def __init__(self, radius):\n        self.radius = radius\n\n    def area(self):\n        return math.pi * (self.radius ** 2)\n\n# Subclass for Rectangle\nclass Rectangle(Shape):\n    def __init__(self, width, height):\n        self.width = width\n        self.height = height\n\n    def area(self):\n        return self.width * self.height\n\n# Function to calculate and print area of various shapes\ndef print_area(shape: Shape):\n    print(f\"The area of the shape is: {shape.area():.2f}\")\n\n# Example usage\ncircle = Circle(5)\nrectangle = Rectangle(4, 6)\n\nprint_area(circle)     # Output: The area of the shape is: 78.54\nprint_area(rectangle)  # Output: The area of the shape is: 24.00",
      "metadata": {
        "trusted": true
      },
      "outputs": [
        {
          "name": "stdout",
          "text": "The area of the shape is: 78.54\nThe area of the shape is: 24.00\n",
          "output_type": "stream"
        }
      ],
      "execution_count": 12
    },
    {
      "cell_type": "markdown",
      "source": "#### Explanation\n#### 1. Polymorphism:\n\n#### ~The print_area function takes an argument of type Shape. This means it can accept any object that inherits from Shape, such as Circle or Rectangle.\n#### ~Inside print_area, we call the area() method on the shape object. The correct method for the specific shape instance is invoked, demonstrating polymorphism.\n#### 2. Example Usage:\n\n#### ~We create instances of Circle and Rectangle.\n#### ~We call print_area() with each shape, and the respective area calculations are printed based on the specific class implementation.\n#### This approach shows how polymorphism allows the same function to operate on different types of objects, making the code more flexible and extensible.",
      "metadata": {}
    },
    {
      "cell_type": "markdown",
      "source": "### 10. Implement encapsulation in a `BankAccount` class with private attributes for `balance` and `account_number`. Include methods for deposit, withdrawal, and balance inquiry.",
      "metadata": {}
    },
    {
      "cell_type": "markdown",
      "source": "#### Here’s an implementation of encapsulation in a BankAccount class using private attributes for balance and account_number. The class includes methods for depositing money, withdrawing money, and inquiring about the balance:",
      "metadata": {}
    },
    {
      "cell_type": "code",
      "source": "class BankAccount:\n    def __init__(self, account_number, initial_balance=0):\n        self.__account_number = account_number  # Private attribute\n        self.__balance = initial_balance          # Private attribute\n\n    def deposit(self, amount):\n        if amount > 0:\n            self.__balance += amount\n            print(f\"Deposited: ${amount:.2f}. New balance: ${self.__balance:.2f}\")\n        else:\n            print(\"Deposit amount must be positive.\")\n\n    def withdraw(self, amount):\n        if amount > 0:\n            if amount <= self.__balance:\n                self.__balance -= amount\n                print(f\"Withdrew: ${amount:.2f}. New balance: ${self.__balance:.2f}\")\n            else:\n                print(\"Insufficient funds.\")\n        else:\n            print(\"Withdrawal amount must be positive.\")\n\n    def get_balance(self):\n        return self.__balance\n\n    def get_account_number(self):\n        return self.__account_number\n\n# Example usage\naccount = BankAccount(\"123456789\", 1000)\naccount.deposit(500)             # Output: Deposited: $500.00. New balance: $1500.00\naccount.withdraw(200)            # Output: Withdrew: $200.00. New balance: $1300.00\nprint(f\"Account Number: {account.get_account_number()}\")  # Output: Account Number: 123456789\nprint(f\"Current Balance: ${account.get_balance():.2f}\")   # Output: Current Balance: $1300.00",
      "metadata": {
        "trusted": true
      },
      "outputs": [
        {
          "name": "stdout",
          "text": "Deposited: $500.00. New balance: $1500.00\nWithdrew: $200.00. New balance: $1300.00\nAccount Number: 123456789\nCurrent Balance: $1300.00\n",
          "output_type": "stream"
        }
      ],
      "execution_count": 13
    },
    {
      "cell_type": "markdown",
      "source": "#### Explanation\n#### 1. Private Attributes:\n\n#### ~The attributes __account_number and __balance are defined with a double underscore prefix, making them private. They cannot be accessed directly from outside the class.\n#### 2. Methods:\n\n#### ~deposit(amount): Increases the balance by the specified amount, ensuring it’s positive.\n#### ~withdraw(amount): Decreases the balance by the specified amount if sufficient funds are available and the amount is positive.\n#### ~get_balance(): Returns the current balance.\n#### ~get_account_number(): Returns the account number.\n#### 3. Example Usage:\n\n#### ~An instance of BankAccount is created with an initial balance. Methods are called to deposit and withdraw funds, and the balance and account number are printed using the provided methods.\n#### This design encapsulates the data, providing controlled access through methods and ensuring that the account balance cannot be directly modified from outside the class.",
      "metadata": {}
    },
    {
      "cell_type": "markdown",
      "source": "### 11. Write a class that overrides the `__str__` and `__add__` magic methods. What will these methods allow you to do?",
      "metadata": {}
    },
    {
      "cell_type": "markdown",
      "source": "#### In Python, the __str__ and __add__ magic methods allow you to customize the string representation of an object and define how objects of a class are added together, respectively.\n\n#### Here’s an example of a class called Vector that overrides both of these methods:",
      "metadata": {}
    },
    {
      "cell_type": "code",
      "source": "class Vector:\n    def __init__(self, x, y):\n        self.x = x\n        self.y = y\n\n    def __str__(self):\n        return f\"Vector({self.x}, {self.y})\"\n\n    def __add__(self, other):\n        if isinstance(other, Vector):\n            return Vector(self.x + other.x, self.y + other.y)\n        return NotImplemented  # Returns a special value to indicate that the addition is not defined for the types\n\n# Example usage\nvector1 = Vector(2, 3)\nvector2 = Vector(4, 5)\n\n# Using the __str__ method\nprint(vector1)  # Output: Vector(2, 3)\nprint(vector2)  # Output: Vector(4, 5)\n\n# Using the __add__ method\nvector3 = vector1 + vector2\nprint(vector3)  # Output: Vector(6, 8)",
      "metadata": {
        "trusted": true
      },
      "outputs": [
        {
          "name": "stdout",
          "text": "Vector(2, 3)\nVector(4, 5)\nVector(6, 8)\n",
          "output_type": "stream"
        }
      ],
      "execution_count": 14
    },
    {
      "cell_type": "markdown",
      "source": "#### Explanation\n#### 1. __str__ Method:\n\n#### ~The __str__ method is overridden to provide a human-readable string representation of the Vector object.\n#### ~When you use the print() function or str() on an instance of Vector, it calls the __str__ method, returning a formatted string.\n#### 2. __add__ Method:\n\n#### ~The __add__ method is overridden to define how two Vector objects can be added together using the + operator.\n#### ~It checks if the other operand is also a Vector and returns a new Vector whose components are the sums of the respective components of the two vectors.\n#### ~If the other operand is not a Vector, it returns NotImplemented, allowing Python to handle the operation appropriately (e.g., raising an error).\n#### Summary of What These Methods Allow You to Do\n#### ~Custom String Representation: The __str__ method allows for a meaningful string representation of an object, making it easier to understand when printed or logged.\n#### ~Operator Overloading: The __add__ method allows for intuitive use of the + operator with class instances, enabling a natural way to combine objects (in this case, vectors).\n#### This makes your classes more user-friendly and intuitive when interacting with instances in Python.\n\n\n\n",
      "metadata": {}
    },
    {
      "cell_type": "markdown",
      "source": "### 12. Create a decorator that measures and prints the execution time of a function.",
      "metadata": {}
    },
    {
      "cell_type": "markdown",
      "source": "#### You can create a decorator in Python that measures and prints the execution time of a function using the time module. Here’s a simple implementation:",
      "metadata": {}
    },
    {
      "cell_type": "code",
      "source": "import time\n\ndef timing_decorator(func):\n    def wrapper(*args, **kwargs):\n        start_time = time.time()  # Record the start time\n        result = func(*args, **kwargs)  # Call the original function\n        end_time = time.time()  # Record the end time\n        execution_time = end_time - start_time  # Calculate the execution time\n        print(f\"Execution time of {func.__name__}: {execution_time:.4f} seconds\")\n        return result  # Return the result of the function\n    return wrapper\n\n# Example usage of the decorator\n@timing_decorator\ndef example_function(n):\n    total = 0\n    for i in range(n):\n        total += i\n    return total\n\n# Call the example function\nresult = example_function(1000000)  # Output will include execution time",
      "metadata": {
        "trusted": true
      },
      "outputs": [
        {
          "name": "stdout",
          "text": "Execution time of example_function: 0.1250 seconds\n",
          "output_type": "stream"
        }
      ],
      "execution_count": 15
    },
    {
      "cell_type": "markdown",
      "source": "#### Explanation\n#### 1. Decorator Function:\n\n#### ~The timing_decorator function takes a function func as an argument and defines an inner wrapper function that adds the timing functionality.\n#### 2. Timing Logic:\n\n#### ~Inside the wrapper function, the current time is recorded before calling the original function.\n#### ~After the function execution, the time is recorded again, and the difference is calculated to determine the execution time.\n#### 3. Using the Decorator:\n\n#### ~The @timing_decorator syntax is used to apply the decorator to the example_function.\n#### ~When example_function is called, it will print the execution time along with the result.\n#### Output\n#### When you run the example_function, you will see an output like:",
      "metadata": {}
    },
    {
      "cell_type": "code",
      "source": "Execution time of example_function: 0.1234 seconds",
      "metadata": {
        "trusted": true
      },
      "outputs": [],
      "execution_count": null
    },
    {
      "cell_type": "markdown",
      "source": "#### This output will vary based on the time taken to execute the function. The decorator provides a clean and reusable way to measure and print execution time for any function you choose to decorate.",
      "metadata": {}
    },
    {
      "cell_type": "markdown",
      "source": "### 13. Explain the concept of the Diamond Problem in multiple inheritance. How does Python resolve it?",
      "metadata": {}
    },
    {
      "cell_type": "markdown",
      "source": "#### The Diamond Problem in multiple inheritance occurs when a class inherits from two or more classes that have a common ancestor. This can create ambiguity regarding which method or attribute should be inherited from the shared ancestor.\n\n#### Example of the Diamond Problem\n#### Consider the following class structure:",
      "metadata": {}
    },
    {
      "cell_type": "code",
      "source": "      A\n     / \\\n    B   C\n     \\ /\n      D",
      "metadata": {
        "trusted": true
      },
      "outputs": [],
      "execution_count": null
    },
    {
      "cell_type": "markdown",
      "source": "#### In this example:\n\n#### ~Class D inherits from both B and C, which both inherit from A.\n#### ~If A has a method method(), and both B and C override this method, calling method() on an instance of D can lead to ambiguity about whether to execute B.method() or C.method().",
      "metadata": {}
    },
    {
      "cell_type": "markdown",
      "source": "#### How Python Resolves the Diamond Problem\n#### Python resolves the Diamond Problem using the Method Resolution Order (MRO), which defines the order in which base classes are searched when executing a method. Python employs the C3 linearization algorithm to create a consistent order.\n\n#### When you call a method on an instance, Python follows this order:\n\n#### 1. The instance’s class.\n#### 2. The base classes of the instance’s class, in the order they were declared.\n#### Example in Python\n#### Here’s how Python handles the Diamond Problem:",
      "metadata": {}
    },
    {
      "cell_type": "code",
      "source": "class A:\n    def method(self):\n        return \"Method from A\"\n\nclass B(A):\n    def method(self):\n        return \"Method from B\"\n\nclass C(A):\n    def method(self):\n        return \"Method from C\"\n\nclass D(B, C):\n    pass\n\n# Example usage\nd = D()\nprint(d.method())  # Output: Method from B\n\n# To view the MRO\nprint(D.mro())  # Output: [<class '__main__.D'>, <class '__main__.B'>, <class '__main__.C'>, <class '__main__.A'>, <class 'object'>]",
      "metadata": {
        "trusted": true
      },
      "outputs": [
        {
          "name": "stdout",
          "text": "Method from B\n[<class '__main__.D'>, <class '__main__.B'>, <class '__main__.C'>, <class '__main__.A'>, <class 'object'>]\n",
          "output_type": "stream"
        }
      ],
      "execution_count": 17
    },
    {
      "cell_type": "markdown",
      "source": "#### Explanation\n#### 1. Class Definitions:\n\n#### ~A defines a method method().\n#### ~B and C both inherit from A and override method().\n#### ~D inherits from both B and C.\n#### 2. Method Call:\n\n#### ~When d.method() is called, Python first looks in class D, then in B, and then in C. Since B comes before C in the inheritance declaration of D, the method from B is executed.\n#### 3. MRO Output:\n\n#### ~The mro() method shows the resolution order: D, B, C, A, object. This confirms that Python will first check D, then B, followed by C, and finally A.\n#### Conclusion\n#### The Diamond Problem illustrates the complexities that can arise with multiple inheritance. Python's use of MRO and the C3 linearization algorithm ensures that these ambiguities are resolved in a consistent and predictable manner, allowing for safe and effective use of multiple inheritance.",
      "metadata": {}
    },
    {
      "cell_type": "markdown",
      "source": "### 14. Write a class method that keeps track of the number of instances created from a class.",
      "metadata": {}
    },
    {
      "cell_type": "markdown",
      "source": "#### To keep track of the number of instances created from a class, you can use a class attribute that increments each time a new instance is created. Here’s how you can implement this in a Python class:",
      "metadata": {}
    },
    {
      "cell_type": "code",
      "source": "class InstanceCounter:\n    instance_count = 0  # Class attribute to track the number of instances\n\n    def __init__(self):\n        InstanceCounter.instance_count += 1  # Increment the count each time an instance is created\n\n    @classmethod\n    def get_instance_count(cls):\n        return cls.instance_count  # Class method to retrieve the instance count\n\n# Example usage\nobj1 = InstanceCounter()\nobj2 = InstanceCounter()\nobj3 = InstanceCounter()\n\nprint(f\"Number of instances created: {InstanceCounter.get_instance_count()}\")  # Output: 3",
      "metadata": {
        "trusted": true
      },
      "outputs": [
        {
          "name": "stdout",
          "text": "Number of instances created: 3\n",
          "output_type": "stream"
        }
      ],
      "execution_count": 18
    },
    {
      "cell_type": "markdown",
      "source": "#### Explanation\n#### 1. Class Attribute:\n\n#### ~instance_count is defined as a class attribute. This variable is shared among all instances of the class.\n#### 2. Constructor (__init__ method):\n\n#### ~Every time a new instance of InstanceCounter is created, the __init__ method increments instance_count by 1.\n#### 3. Class Method:\n\n#### ~get_instance_count is defined as a class method using the @classmethod decorator. This method returns the current value of instance_count.\n#### 4. Example Usage:\n\n#### ~Three instances of InstanceCounter are created, and the get_instance_count method is called to print the total number of instances created.\n#### This implementation effectively tracks the number of instances of the class throughout its lifecycle.",
      "metadata": {}
    },
    {
      "cell_type": "markdown",
      "source": "### 15. Implement a static method in a class that checks if a given year is a leap year.",
      "metadata": {}
    },
    {
      "cell_type": "markdown",
      "source": "#### You can implement a static method in a class to check if a given year is a leap year by using the standard rules for determining leap years. Here's how you can do that:",
      "metadata": {}
    },
    {
      "cell_type": "code",
      "source": "class YearUtils:\n    @staticmethod\n    def is_leap_year(year):\n        \"\"\"Check if a given year is a leap year.\"\"\"\n        if (year % 4 == 0 and year % 100 != 0) or (year % 400 == 0):\n            return True\n        return False\n\n# Example usage\nyear_to_check = 2024\nif YearUtils.is_leap_year(year_to_check):\n    print(f\"{year_to_check} is a leap year.\")\nelse:\n    print(f\"{year_to_check} is not a leap year.\")",
      "metadata": {
        "trusted": true
      },
      "outputs": [
        {
          "name": "stdout",
          "text": "2024 is a leap year.\n",
          "output_type": "stream"
        }
      ],
      "execution_count": 19
    },
    {
      "cell_type": "markdown",
      "source": "#### Explanation\n#### 1. Static Method:\n\n#### ~The is_leap_year method is defined as a static method using the @staticmethod decorator. This means it can be called on the class itself without needing an instance.\n#### 2. Leap Year Logic:\n\n#### ~The method checks:\n#### ~If the year is divisible by 4.\n#### ~If it is not divisible by 100 unless it is also divisible by 400.\n#### ~If both conditions are met, the method returns True, indicating it's a leap year; otherwise, it returns False.\n#### 3. Example Usage:\n\n#### ~The method is called with a specific year (2024 in this case), and it prints whether the year is a leap year or not.\n#### This implementation provides a clean and reusable way to check for leap years without requiring an instance of the YearUtils class.",
      "metadata": {}
    }
  ]
}